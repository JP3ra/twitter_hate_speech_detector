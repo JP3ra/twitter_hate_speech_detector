{
 "cells": [
  {
   "cell_type": "markdown",
   "id": "5d325a99-f60a-4814-8c6d-89be1673edab",
   "metadata": {},
   "source": [
    "### Importing libraries"
   ]
  },
  {
   "cell_type": "code",
   "execution_count": 1,
   "id": "18c2cc92-3c28-4c9c-90ef-4ed0b86d603c",
   "metadata": {},
   "outputs": [],
   "source": [
    "import pandas as pd \n",
    "import numpy as np \n",
    "import matplotlib.pyplot as plt"
   ]
  },
  {
   "cell_type": "code",
   "execution_count": 2,
   "id": "a230f18a-0829-47df-9e77-73e84ca92947",
   "metadata": {},
   "outputs": [],
   "source": [
    "import re "
   ]
  },
  {
   "cell_type": "code",
   "execution_count": 3,
   "id": "55195b35-e31d-41ee-a0e6-7d36561ffc0e",
   "metadata": {},
   "outputs": [],
   "source": [
    "from nltk.tokenize import word_tokenize\n",
    "from nltk.stem import WordNetLemmatizer\n",
    "from nltk.corpus import stopwords"
   ]
  },
  {
   "cell_type": "code",
   "execution_count": 4,
   "id": "53614158-b9bc-4be1-9357-9257567a9039",
   "metadata": {},
   "outputs": [],
   "source": [
    "import nltk\n",
    "import seaborn as sns"
   ]
  },
  {
   "cell_type": "code",
   "execution_count": 5,
   "id": "418105a2-6c41-41ef-a1b6-7b5554c0c1bf",
   "metadata": {},
   "outputs": [],
   "source": [
    "stop_words = set(stopwords.words('english'))"
   ]
  },
  {
   "cell_type": "code",
   "execution_count": 6,
   "id": "5ae27357-df64-4811-a081-60e3406c62a3",
   "metadata": {},
   "outputs": [],
   "source": [
    "from sklearn.feature_extraction.text import TfidfVectorizer\n",
    "from sklearn.model_selection import train_test_split\n",
    "from sklearn.linear_model import LogisticRegression\n",
    "from sklearn.metrics import accuracy_score, classification_report, confusion_matrix, ConfusionMatrixDisplay"
   ]
  },
  {
   "cell_type": "code",
   "execution_count": 7,
   "id": "0ce53e04-5d3a-46da-abd4-9614184d0e77",
   "metadata": {},
   "outputs": [],
   "source": [
    "import pickle"
   ]
  },
  {
   "cell_type": "code",
   "execution_count": 8,
   "id": "1a315aa5-94af-4ea2-87b5-87d60465ab45",
   "metadata": {},
   "outputs": [],
   "source": [
    "from wordcloud import WordCloud"
   ]
  },
  {
   "cell_type": "markdown",
   "id": "8ecda9d8-8c75-434c-b7d4-75e4cac38926",
   "metadata": {},
   "source": [
    "## Reading in the dataset"
   ]
  },
  {
   "cell_type": "code",
   "execution_count": 9,
   "id": "2fb8d432-c0aa-4dcc-b9d2-3474e42e6c57",
   "metadata": {},
   "outputs": [],
   "source": [
    "data = pd.read_csv('labeled_data.csv')"
   ]
  },
  {
   "cell_type": "code",
   "execution_count": 10,
   "id": "1edcf12b-9095-45ab-9ac3-f7ae41452f5f",
   "metadata": {},
   "outputs": [
    {
     "name": "stdout",
     "output_type": "stream",
     "text": [
      "<class 'pandas.core.frame.DataFrame'>\n",
      "RangeIndex: 24783 entries, 0 to 24782\n",
      "Data columns (total 7 columns):\n",
      " #   Column              Non-Null Count  Dtype \n",
      "---  ------              --------------  ----- \n",
      " 0   Unnamed: 0          24783 non-null  int64 \n",
      " 1   count               24783 non-null  int64 \n",
      " 2   hate_speech         24783 non-null  int64 \n",
      " 3   offensive_language  24783 non-null  int64 \n",
      " 4   neither             24783 non-null  int64 \n",
      " 5   class               24783 non-null  int64 \n",
      " 6   tweet               24783 non-null  object\n",
      "dtypes: int64(6), object(1)\n",
      "memory usage: 1.3+ MB\n"
     ]
    }
   ],
   "source": [
    "data.info()"
   ]
  },
  {
   "cell_type": "markdown",
   "id": "077a9086-3a25-4a4a-a5b3-5942f94c219f",
   "metadata": {},
   "source": [
    "## Pre processing the data"
   ]
  },
  {
   "cell_type": "code",
   "execution_count": 11,
   "id": "25b231f3-6266-4d3b-a098-732a652623a7",
   "metadata": {},
   "outputs": [],
   "source": [
    "def data_processing(tweet):\n",
    "    tweet = tweet.lower()\n",
    "    tweet = re.sub(r\"https\\S+|www\\S+http\\S+\", '', tweet, flags = re.MULTILINE)\n",
    "    tweet = re.sub(r'\\@w+|\\#','', tweet)\n",
    "    tweet = re.sub(r'[^\\w\\s]','',tweet)\n",
    "    tweet = re.sub(r'ð','',tweet)\n",
    "    tweet_tokens = word_tokenize(tweet)\n",
    "    filtered_tweets = [w for w in tweet_tokens if not w in stop_words]\n",
    "    return \" \".join(filtered_tweets)"
   ]
  },
  {
   "cell_type": "code",
   "execution_count": 12,
   "id": "53499502-74d1-4a6e-8c55-83dabd8da6c0",
   "metadata": {},
   "outputs": [],
   "source": [
    "data.tweet = data['tweet'].apply(data_processing)"
   ]
  },
  {
   "cell_type": "code",
   "execution_count": 13,
   "id": "bc91782c-9650-47e1-b48d-6b39dba66101",
   "metadata": {},
   "outputs": [],
   "source": [
    "data = data.drop_duplicates('tweet')"
   ]
  },
  {
   "cell_type": "code",
   "execution_count": 14,
   "id": "dd92a916-50a9-47f7-9245-406cbbe4eaef",
   "metadata": {},
   "outputs": [],
   "source": [
    "lemmatizer = WordNetLemmatizer()\n",
    "def lemmatizing(data):\n",
    "    tweet = [lemmatizer.lemmatize(word) for word in data]\n",
    "    return data"
   ]
  },
  {
   "cell_type": "code",
   "execution_count": 15,
   "id": "0de35ba3-dea8-4f87-8c3f-9ada10693fca",
   "metadata": {},
   "outputs": [],
   "source": [
    "data['tweet'] = data['tweet'].apply(lambda x: lemmatizing(x))"
   ]
  },
  {
   "cell_type": "code",
   "execution_count": 16,
   "id": "323b5384-af82-4415-b38c-5657ee4f50c4",
   "metadata": {},
   "outputs": [
    {
     "name": "stdout",
     "output_type": "stream",
     "text": [
      "<class 'pandas.core.frame.DataFrame'>\n",
      "Index: 24698 entries, 0 to 24782\n",
      "Data columns (total 7 columns):\n",
      " #   Column              Non-Null Count  Dtype \n",
      "---  ------              --------------  ----- \n",
      " 0   Unnamed: 0          24698 non-null  int64 \n",
      " 1   count               24698 non-null  int64 \n",
      " 2   hate_speech         24698 non-null  int64 \n",
      " 3   offensive_language  24698 non-null  int64 \n",
      " 4   neither             24698 non-null  int64 \n",
      " 5   class               24698 non-null  int64 \n",
      " 6   tweet               24698 non-null  object\n",
      "dtypes: int64(6), object(1)\n",
      "memory usage: 1.5+ MB\n"
     ]
    }
   ],
   "source": [
    "data.info()"
   ]
  },
  {
   "cell_type": "markdown",
   "id": "95b50268-8d6c-4ed1-8513-4d37a60b6f17",
   "metadata": {},
   "source": [
    "## Train Test split"
   ]
  },
  {
   "cell_type": "code",
   "execution_count": 17,
   "id": "f25782bc-d9b9-434b-a96d-26aa42e93107",
   "metadata": {},
   "outputs": [],
   "source": [
    "vect=TfidfVectorizer(ngram_range=(1,2)).fit(data['tweet'])"
   ]
  },
  {
   "cell_type": "code",
   "execution_count": 18,
   "id": "bc56cf3e-4658-4c7e-8be1-90eb3cc3389a",
   "metadata": {},
   "outputs": [],
   "source": [
    "X = data['tweet']"
   ]
  },
  {
   "cell_type": "code",
   "execution_count": 19,
   "id": "a139a249-d14c-49dc-8a07-ff2409b81561",
   "metadata": {},
   "outputs": [],
   "source": [
    "y = data['class']"
   ]
  },
  {
   "cell_type": "code",
   "execution_count": 21,
   "id": "85921ad8-3104-43b1-ad06-733fbd434c9f",
   "metadata": {},
   "outputs": [],
   "source": [
    "X = vect.transform(X)"
   ]
  },
  {
   "cell_type": "code",
   "execution_count": 22,
   "id": "2f21281f-47a6-44e2-8feb-8d0378186020",
   "metadata": {},
   "outputs": [
    {
     "data": {
      "text/plain": [
       "<24698x189343 sparse matrix of type '<class 'numpy.float64'>'\n",
       "\twith 415095 stored elements in Compressed Sparse Row format>"
      ]
     },
     "execution_count": 22,
     "metadata": {},
     "output_type": "execute_result"
    }
   ],
   "source": [
    "X"
   ]
  },
  {
   "cell_type": "code",
   "execution_count": 23,
   "id": "ce0b22d7-6712-4fdc-9616-ac94707b3e19",
   "metadata": {},
   "outputs": [],
   "source": [
    "X_train, X_test, y_train, y_test = train_test_split(X, y, test_size = 0.2, random_state = 42)"
   ]
  },
  {
   "cell_type": "code",
   "execution_count": 24,
   "id": "afcbfd28-9f68-463b-ad73-cf99e782e94c",
   "metadata": {},
   "outputs": [
    {
     "name": "stdout",
     "output_type": "stream",
     "text": [
      "Size of X_train (19758, 189343)\n",
      "Size of Y_train (19758,)\n",
      "Size of X_test (4940, 189343)\n",
      "Size of Y_test (4940,)\n"
     ]
    }
   ],
   "source": [
    "print(\"Size of X_train\", (X_train.shape))\n",
    "print(\"Size of Y_train\", (y_train.shape))\n",
    "print(\"Size of X_test\", (X_test.shape))\n",
    "print(\"Size of Y_test\", (y_test.shape))"
   ]
  },
  {
   "cell_type": "markdown",
   "id": "69765631-8ef9-4792-9a31-c890607aa6ca",
   "metadata": {},
   "source": [
    "## Model 1: Logistics Regression"
   ]
  },
  {
   "cell_type": "code",
   "execution_count": 30,
   "id": "999b20f6-d829-4d20-b2c5-b0d14ffe96f2",
   "metadata": {},
   "outputs": [],
   "source": [
    "logreg = LogisticRegression()\n",
    "logreg.fit(X_train, y_train) #loading x_train and y_train data on model\n",
    "logreg_predict = logreg.predict(X_test) #predicting the value for test data\n",
    "logreg_acc = accuracy_score(logreg_predict, y_test)"
   ]
  },
  {
   "cell_type": "code",
   "execution_count": 31,
   "id": "fde0dc5d-f79b-4de6-a105-c31cbe06fcbb",
   "metadata": {},
   "outputs": [
    {
     "data": {
      "text/plain": [
       "0.8651821862348178"
      ]
     },
     "execution_count": 31,
     "metadata": {},
     "output_type": "execute_result"
    }
   ],
   "source": [
    "logreg_acc"
   ]
  },
  {
   "cell_type": "code",
   "execution_count": 40,
   "id": "1989d603-6996-4afd-a717-ed638d2527cd",
   "metadata": {},
   "outputs": [],
   "source": [
    "test = \"i love to display my affection its wholesome\"\n",
    "test_pre = data_processing(test)\n",
    "test_vec = vect.transform([test_pre])"
   ]
  },
  {
   "cell_type": "code",
   "execution_count": 33,
   "id": "5a2336e1-6397-46cd-a3df-05e41ce93c3c",
   "metadata": {},
   "outputs": [
    {
     "data": {
      "text/plain": [
       "array([0], dtype=int64)"
      ]
     },
     "execution_count": 33,
     "metadata": {},
     "output_type": "execute_result"
    }
   ],
   "source": [
    "logreg.predict(test_vec)"
   ]
  },
  {
   "cell_type": "markdown",
   "id": "a9d79c2e-cbaf-40f8-a934-922be0243561",
   "metadata": {},
   "source": [
    "## Model 2 Logistics Regression with hyperparameter tuning"
   ]
  },
  {
   "cell_type": "code",
   "execution_count": 34,
   "id": "846a3bfb-455c-47d0-b374-1e368f3b0d39",
   "metadata": {},
   "outputs": [],
   "source": [
    "from sklearn.model_selection import GridSearchCV\n",
    "import warnings\n",
    "warnings.filterwarnings('ignore')"
   ]
  },
  {
   "cell_type": "code",
   "execution_count": 35,
   "id": "156b5c8c-8a3d-46ed-bea3-26d6a151c323",
   "metadata": {},
   "outputs": [
    {
     "name": "stdout",
     "output_type": "stream",
     "text": [
      "Best Cross validation score: 0.89\n",
      "Best parameters:  {'C': 100, 'solver': 'lbfgs'}\n"
     ]
    }
   ],
   "source": [
    "param_grid = {'C':[100, 10, 1.0, 0.1, 0.01], 'solver' :['newton-cg', 'lbfgs','liblinear']}\n",
    "grid = GridSearchCV(LogisticRegression(), param_grid, cv = 5)\n",
    "grid.fit(X_train, y_train)\n",
    "print(\"Best Cross validation score: {:.2f}\".format(grid.best_score_))\n",
    "print(\"Best parameters: \", grid.best_params_)"
   ]
  },
  {
   "cell_type": "code",
   "execution_count": 36,
   "id": "43c01f7d-c9a0-4e39-b44f-3e269965021c",
   "metadata": {},
   "outputs": [
    {
     "name": "stdout",
     "output_type": "stream",
     "text": [
      "done\n"
     ]
    }
   ],
   "source": [
    "print(\"done\")"
   ]
  },
  {
   "cell_type": "code",
   "execution_count": 37,
   "id": "cd21374d-6d39-4283-985c-d3085e9ee58e",
   "metadata": {},
   "outputs": [],
   "source": [
    "log_grid_pred = grid.predict(X_test)"
   ]
  },
  {
   "cell_type": "code",
   "execution_count": 38,
   "id": "3e79d61b-57fc-4f41-a785-3093c4735271",
   "metadata": {},
   "outputs": [
    {
     "name": "stdout",
     "output_type": "stream",
     "text": [
      "Test accuracy: 89.47%\n"
     ]
    }
   ],
   "source": [
    "log_grid_acc = accuracy_score(log_grid_pred, y_test)\n",
    "print(\"Test accuracy: {:.2f}%\".format(log_grid_acc*100)) #printing model accuracy after applying hyperparamenter tuning"
   ]
  },
  {
   "cell_type": "code",
   "execution_count": 41,
   "id": "72a25a09-b018-4797-a759-e22d9ffed08c",
   "metadata": {},
   "outputs": [
    {
     "data": {
      "text/plain": [
       "array([1], dtype=int64)"
      ]
     },
     "execution_count": 41,
     "metadata": {},
     "output_type": "execute_result"
    }
   ],
   "source": [
    "grid.predict(test_vec)"
   ]
  },
  {
   "cell_type": "markdown",
   "id": "57172ead-e755-4abc-a82e-95a117efdfb9",
   "metadata": {},
   "source": [
    "## Model 3: Decision tree classifier"
   ]
  },
  {
   "cell_type": "code",
   "execution_count": 42,
   "id": "16c6b5ba-ca23-4619-a69d-3e4e0493f490",
   "metadata": {},
   "outputs": [],
   "source": [
    "from sklearn.tree import DecisionTreeClassifier"
   ]
  },
  {
   "cell_type": "code",
   "execution_count": 43,
   "id": "27935af5-823b-4971-9a81-d73e6dd1653c",
   "metadata": {},
   "outputs": [],
   "source": [
    "dtree = DecisionTreeClassifier()\n",
    "dtree.fit(X_train, y_train) #loading x_train and y_train data on model\n",
    "dtree_pred = dtree.predict(X_test) #predicting the value for test data\n",
    "dtree_acc = accuracy_score(dtree_pred, y_test)"
   ]
  },
  {
   "cell_type": "code",
   "execution_count": 44,
   "id": "3d0d44b2-dd36-4af9-94b8-1bb762c7daf9",
   "metadata": {},
   "outputs": [
    {
     "data": {
      "text/plain": [
       "0.8811740890688259"
      ]
     },
     "execution_count": 44,
     "metadata": {},
     "output_type": "execute_result"
    }
   ],
   "source": [
    "dtree_acc"
   ]
  },
  {
   "cell_type": "markdown",
   "id": "99b1af9c-01f0-4b2c-b5b3-bb7bb3108275",
   "metadata": {},
   "source": [
    "## Model 4: Random Forest"
   ]
  },
  {
   "cell_type": "code",
   "execution_count": 78,
   "id": "77c531d4-a7e5-4b37-9278-c0bb0c0aa11d",
   "metadata": {},
   "outputs": [],
   "source": [
    "from sklearn.ensemble import RandomForestClassifier"
   ]
  },
  {
   "cell_type": "code",
   "execution_count": 80,
   "id": "a3e753d7-5394-4735-8abb-224f6fe52a6b",
   "metadata": {},
   "outputs": [],
   "source": [
    "rfc = RandomForestClassifier()"
   ]
  },
  {
   "cell_type": "code",
   "execution_count": 81,
   "id": "4c9fca26-4782-4d35-ac16-3bca8e352e28",
   "metadata": {},
   "outputs": [
    {
     "data": {
      "text/html": [
       "<style>#sk-container-id-2 {color: black;}#sk-container-id-2 pre{padding: 0;}#sk-container-id-2 div.sk-toggleable {background-color: white;}#sk-container-id-2 label.sk-toggleable__label {cursor: pointer;display: block;width: 100%;margin-bottom: 0;padding: 0.3em;box-sizing: border-box;text-align: center;}#sk-container-id-2 label.sk-toggleable__label-arrow:before {content: \"▸\";float: left;margin-right: 0.25em;color: #696969;}#sk-container-id-2 label.sk-toggleable__label-arrow:hover:before {color: black;}#sk-container-id-2 div.sk-estimator:hover label.sk-toggleable__label-arrow:before {color: black;}#sk-container-id-2 div.sk-toggleable__content {max-height: 0;max-width: 0;overflow: hidden;text-align: left;background-color: #f0f8ff;}#sk-container-id-2 div.sk-toggleable__content pre {margin: 0.2em;color: black;border-radius: 0.25em;background-color: #f0f8ff;}#sk-container-id-2 input.sk-toggleable__control:checked~div.sk-toggleable__content {max-height: 200px;max-width: 100%;overflow: auto;}#sk-container-id-2 input.sk-toggleable__control:checked~label.sk-toggleable__label-arrow:before {content: \"▾\";}#sk-container-id-2 div.sk-estimator input.sk-toggleable__control:checked~label.sk-toggleable__label {background-color: #d4ebff;}#sk-container-id-2 div.sk-label input.sk-toggleable__control:checked~label.sk-toggleable__label {background-color: #d4ebff;}#sk-container-id-2 input.sk-hidden--visually {border: 0;clip: rect(1px 1px 1px 1px);clip: rect(1px, 1px, 1px, 1px);height: 1px;margin: -1px;overflow: hidden;padding: 0;position: absolute;width: 1px;}#sk-container-id-2 div.sk-estimator {font-family: monospace;background-color: #f0f8ff;border: 1px dotted black;border-radius: 0.25em;box-sizing: border-box;margin-bottom: 0.5em;}#sk-container-id-2 div.sk-estimator:hover {background-color: #d4ebff;}#sk-container-id-2 div.sk-parallel-item::after {content: \"\";width: 100%;border-bottom: 1px solid gray;flex-grow: 1;}#sk-container-id-2 div.sk-label:hover label.sk-toggleable__label {background-color: #d4ebff;}#sk-container-id-2 div.sk-serial::before {content: \"\";position: absolute;border-left: 1px solid gray;box-sizing: border-box;top: 0;bottom: 0;left: 50%;z-index: 0;}#sk-container-id-2 div.sk-serial {display: flex;flex-direction: column;align-items: center;background-color: white;padding-right: 0.2em;padding-left: 0.2em;position: relative;}#sk-container-id-2 div.sk-item {position: relative;z-index: 1;}#sk-container-id-2 div.sk-parallel {display: flex;align-items: stretch;justify-content: center;background-color: white;position: relative;}#sk-container-id-2 div.sk-item::before, #sk-container-id-2 div.sk-parallel-item::before {content: \"\";position: absolute;border-left: 1px solid gray;box-sizing: border-box;top: 0;bottom: 0;left: 50%;z-index: -1;}#sk-container-id-2 div.sk-parallel-item {display: flex;flex-direction: column;z-index: 1;position: relative;background-color: white;}#sk-container-id-2 div.sk-parallel-item:first-child::after {align-self: flex-end;width: 50%;}#sk-container-id-2 div.sk-parallel-item:last-child::after {align-self: flex-start;width: 50%;}#sk-container-id-2 div.sk-parallel-item:only-child::after {width: 0;}#sk-container-id-2 div.sk-dashed-wrapped {border: 1px dashed gray;margin: 0 0.4em 0.5em 0.4em;box-sizing: border-box;padding-bottom: 0.4em;background-color: white;}#sk-container-id-2 div.sk-label label {font-family: monospace;font-weight: bold;display: inline-block;line-height: 1.2em;}#sk-container-id-2 div.sk-label-container {text-align: center;}#sk-container-id-2 div.sk-container {/* jupyter's `normalize.less` sets `[hidden] { display: none; }` but bootstrap.min.css set `[hidden] { display: none !important; }` so we also need the `!important` here to be able to override the default hidden behavior on the sphinx rendered scikit-learn.org. See: https://github.com/scikit-learn/scikit-learn/issues/21755 */display: inline-block !important;position: relative;}#sk-container-id-2 div.sk-text-repr-fallback {display: none;}</style><div id=\"sk-container-id-2\" class=\"sk-top-container\"><div class=\"sk-text-repr-fallback\"><pre>RandomForestClassifier()</pre><b>In a Jupyter environment, please rerun this cell to show the HTML representation or trust the notebook. <br />On GitHub, the HTML representation is unable to render, please try loading this page with nbviewer.org.</b></div><div class=\"sk-container\" hidden><div class=\"sk-item\"><div class=\"sk-estimator sk-toggleable\"><input class=\"sk-toggleable__control sk-hidden--visually\" id=\"sk-estimator-id-2\" type=\"checkbox\" checked><label for=\"sk-estimator-id-2\" class=\"sk-toggleable__label sk-toggleable__label-arrow\">RandomForestClassifier</label><div class=\"sk-toggleable__content\"><pre>RandomForestClassifier()</pre></div></div></div></div></div>"
      ],
      "text/plain": [
       "RandomForestClassifier()"
      ]
     },
     "execution_count": 81,
     "metadata": {},
     "output_type": "execute_result"
    }
   ],
   "source": [
    "rfc.fit(X_train, y_train)"
   ]
  },
  {
   "cell_type": "code",
   "execution_count": 82,
   "id": "387047df-c12c-427d-ac43-094b1b451f61",
   "metadata": {},
   "outputs": [],
   "source": [
    "rfc_pred = rfc.predict(X_test)"
   ]
  },
  {
   "cell_type": "code",
   "execution_count": 83,
   "id": "94e36fd3-a106-411c-a569-f7bd02cf3a8e",
   "metadata": {},
   "outputs": [],
   "source": [
    "rfc_ac = accuracy_score(y_test, rfc_pred)"
   ]
  },
  {
   "cell_type": "code",
   "execution_count": 84,
   "id": "92cb8355-473c-47dd-af3d-266897d665fc",
   "metadata": {},
   "outputs": [
    {
     "data": {
      "text/plain": [
       "0.8753036437246964"
      ]
     },
     "execution_count": 84,
     "metadata": {},
     "output_type": "execute_result"
    }
   ],
   "source": [
    "rfc_ac"
   ]
  },
  {
   "cell_type": "markdown",
   "id": "085c9e4f-7411-4f45-9c0b-13016d039ccd",
   "metadata": {},
   "source": [
    "## Model 5 XG boost"
   ]
  },
  {
   "cell_type": "code",
   "execution_count": 64,
   "id": "8b0eb315-ff18-4735-acfd-48f3251f7127",
   "metadata": {},
   "outputs": [
    {
     "name": "stdout",
     "output_type": "stream",
     "text": [
      "Test accuracy: 0.9006072874493927\n"
     ]
    }
   ],
   "source": [
    "from xgboost import XGBClassifier\n",
    "\n",
    "# Instantiate the XGBClassifier\n",
    "xgb = XGBClassifier()\n",
    "\n",
    "# Fit the model to the training data\n",
    "xgb.fit(X_train, y_train)\n",
    "\n",
    "# Predict on the test data\n",
    "xgb_pred = xgb.predict(X_test)\n",
    "\n",
    "# Evaluate the model\n",
    "accuracy = accuracy_score(y_test, xgb_pred)\n",
    "print(\"Test accuracy:\", accuracy)"
   ]
  },
  {
   "cell_type": "code",
   "execution_count": 91,
   "id": "f32adda1-84fb-4cf3-9ac2-1f931a7d6a0e",
   "metadata": {},
   "outputs": [
    {
     "data": {
      "text/plain": [
       "array([0], dtype=int64)"
      ]
     },
     "execution_count": 91,
     "metadata": {},
     "output_type": "execute_result"
    }
   ],
   "source": [
    "xgb.predict(test_vec)"
   ]
  },
  {
   "cell_type": "markdown",
   "id": "701dae75-c7d5-492f-8f9a-5181dc3fe4c5",
   "metadata": {},
   "source": [
    "## Exporting the models"
   ]
  },
  {
   "cell_type": "code",
   "execution_count": 93,
   "id": "b842a949-fb22-40a3-af98-5de909b40b17",
   "metadata": {},
   "outputs": [],
   "source": [
    "pickle.dump(xgb, open('model2.pkl', 'wb'))"
   ]
  },
  {
   "cell_type": "code",
   "execution_count": 52,
   "id": "c120310d-f2a7-403d-9008-a78a234e9647",
   "metadata": {},
   "outputs": [],
   "source": [
    "test = \"this isnt any normal method this is the best way to success\"\n",
    "test_pre = data_processing(test)\n",
    "test_vec = vect.transform([test_pre])"
   ]
  },
  {
   "cell_type": "code",
   "execution_count": 46,
   "id": "79750d81-a29a-4422-b679-23b133dd3fa1",
   "metadata": {},
   "outputs": [],
   "source": [
    "pickle.dump(grid, open('modelgrid.pkl', 'wb'))"
   ]
  },
  {
   "cell_type": "code",
   "execution_count": 47,
   "id": "a84a44da-d345-4059-aaf6-4f6f9fe997de",
   "metadata": {},
   "outputs": [],
   "source": [
    "modeltest = pickle.load(open('modelgrid.pkl', 'rb'))"
   ]
  },
  {
   "cell_type": "code",
   "execution_count": 53,
   "id": "5af05b0b-f01d-4a79-b4cd-4551817f506a",
   "metadata": {},
   "outputs": [
    {
     "data": {
      "text/plain": [
       "array([2], dtype=int64)"
      ]
     },
     "execution_count": 53,
     "metadata": {},
     "output_type": "execute_result"
    }
   ],
   "source": [
    "modeltest.predict(test_vec)"
   ]
  },
  {
   "cell_type": "code",
   "execution_count": 54,
   "id": "bc8fb2d8-2d4c-4030-a122-859ff560422f",
   "metadata": {},
   "outputs": [],
   "source": [
    "with open('tfidf_vectorizer.pkl', 'wb') as vectorizer_file:\n",
    "    pickle.dump(vect, vectorizer_file)"
   ]
  },
  {
   "cell_type": "code",
   "execution_count": 69,
   "id": "eb192297-9ca2-4914-9653-e8bbda9ad1ce",
   "metadata": {},
   "outputs": [],
   "source": [
    "test = \"what classifies as hateful need not be always hateful\"\n",
    "test_pre = data_processing(test)\n",
    "test_vec = vect.transform([test_pre])"
   ]
  },
  {
   "cell_type": "code",
   "execution_count": 70,
   "id": "d995826d-bf51-47e8-8169-9d3d6d2dabd8",
   "metadata": {},
   "outputs": [
    {
     "data": {
      "text/plain": [
       "array([2], dtype=int64)"
      ]
     },
     "execution_count": 70,
     "metadata": {},
     "output_type": "execute_result"
    }
   ],
   "source": [
    "dtree.predict(test_vec)"
   ]
  },
  {
   "cell_type": "code",
   "execution_count": 71,
   "id": "5748a4d6-a614-4a2f-95c0-39a3a9180f67",
   "metadata": {},
   "outputs": [
    {
     "data": {
      "text/plain": [
       "array([2], dtype=int64)"
      ]
     },
     "execution_count": 71,
     "metadata": {},
     "output_type": "execute_result"
    }
   ],
   "source": [
    "xgb.predict(test_vec)"
   ]
  },
  {
   "cell_type": "code",
   "execution_count": 72,
   "id": "a672e2e4-8ba4-4dd3-84b5-fc365cb316d5",
   "metadata": {},
   "outputs": [],
   "source": [
    "pickle.dump(xgb, open('xgb_model.pkl', 'wb'))"
   ]
  },
  {
   "cell_type": "code",
   "execution_count": 74,
   "id": "bad30ba5-cf76-4504-b7ee-eeb84ff125fa",
   "metadata": {},
   "outputs": [],
   "source": [
    "model_xgb = pickle.load(open('xgb_model.pkl', 'rb'))"
   ]
  },
  {
   "cell_type": "markdown",
   "id": "c914a598-0b06-4631-b6ac-589964d8afdf",
   "metadata": {},
   "source": [
    "model_xgb.predict(test_vec)"
   ]
  },
  {
   "cell_type": "code",
   "execution_count": 75,
   "id": "8239e2ef-eedc-4d45-ac88-ed204331e2ba",
   "metadata": {},
   "outputs": [
    {
     "data": {
      "text/plain": [
       "array([2], dtype=int64)"
      ]
     },
     "execution_count": 75,
     "metadata": {},
     "output_type": "execute_result"
    }
   ],
   "source": [
    "model_xgb.predict(test_vec)"
   ]
  },
  {
   "cell_type": "code",
   "execution_count": null,
   "id": "f10d1165-d4a6-42e5-98ae-ab576b28179f",
   "metadata": {},
   "outputs": [],
   "source": []
  }
 ],
 "metadata": {
  "kernelspec": {
   "display_name": "Python 3 (ipykernel)",
   "language": "python",
   "name": "python3"
  },
  "language_info": {
   "codemirror_mode": {
    "name": "ipython",
    "version": 3
   },
   "file_extension": ".py",
   "mimetype": "text/x-python",
   "name": "python",
   "nbconvert_exporter": "python",
   "pygments_lexer": "ipython3",
   "version": "3.9.1"
  }
 },
 "nbformat": 4,
 "nbformat_minor": 5
}
