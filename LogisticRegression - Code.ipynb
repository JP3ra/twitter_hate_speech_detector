{
 "cells": [
  {
   "cell_type": "code",
   "execution_count": 38,
   "id": "67ef86e4-2cc6-49e1-89a3-44caed351a03",
   "metadata": {},
   "outputs": [],
   "source": [
    "import numpy as np\n",
    "import pandas as pd\n",
    "import re\n",
    "from nltk.tokenize import word_tokenize\n",
    "from nltk.corpus import stopwords\n",
    "from nltk.stem import WordNetLemmatizer\n",
    "from sklearn.model_selection import train_test_split\n",
    "from sklearn.metrics import accuracy_score"
   ]
  },
  {
   "cell_type": "code",
   "execution_count": 39,
   "id": "ab95a164-743a-4392-a67f-e271d6c1e3b6",
   "metadata": {},
   "outputs": [],
   "source": [
    "stop_words = set(stopwords.words('english'))"
   ]
  },
  {
   "cell_type": "code",
   "execution_count": 40,
   "id": "6236c3d2-752e-4268-9257-79ee864f43ee",
   "metadata": {},
   "outputs": [],
   "source": [
    "data = pd.read_csv('labeled_data.csv', on_bad_lines='skip')\n"
   ]
  },
  {
   "cell_type": "code",
   "execution_count": 41,
   "id": "70973a59-3fc9-40f2-872b-583cb30afbfd",
   "metadata": {},
   "outputs": [],
   "source": [
    "def data_processing(tweet):\n",
    "    tweet = tweet.lower()\n",
    "    tweet = re.sub(r\"https\\S+|www\\S+http\\S+\", '', tweet, flags=re.MULTILINE)\n",
    "    tweet = re.sub(r'\\@\\w+|\\#', '', tweet)\n",
    "    tweet = re.sub(r'[^\\\\w\\\\s]', '', tweet)\n",
    "    tweet = re.sub(r'ð', '', tweet)\n",
    "    tweet_tokens = word_tokenize(tweet)\n",
    "    stop_words = set(stopwords.words('english'))\n",
    "    filtered_tweets = [w for w in tweet_tokens if not w in stop_words]\n",
    "    return \" \".join(filtered_tweets)\n"
   ]
  },
  {
   "cell_type": "code",
   "execution_count": 42,
   "id": "9b62fa05-a441-48c5-b9f6-c5f78b8baab3",
   "metadata": {},
   "outputs": [],
   "source": [
    "data['tweet'] = data['tweet'].apply(data_processing)\n"
   ]
  },
  {
   "cell_type": "code",
   "execution_count": 43,
   "id": "c5ec2a66-2d42-4bb8-bd4d-92eb5dce6963",
   "metadata": {},
   "outputs": [],
   "source": [
    "data = data.drop_duplicates('tweet')\n"
   ]
  },
  {
   "cell_type": "code",
   "execution_count": 44,
   "id": "fdf0c070-4914-4cc8-924d-edd43ee30afa",
   "metadata": {},
   "outputs": [],
   "source": [
    "lemmatizer = WordNetLemmatizer()\n",
    "def lemmatizing(data):\n",
    "    return \" \".join([lemmatizer.lemmatize(word) for word in data.split()])"
   ]
  },
  {
   "cell_type": "code",
   "execution_count": 45,
   "id": "830846a0-2936-4986-b1e6-d7bb0ebb65bb",
   "metadata": {},
   "outputs": [],
   "source": [
    "data['tweet'] = data['tweet'].apply(lemmatizing)\n"
   ]
  },
  {
   "cell_type": "code",
   "execution_count": 46,
   "id": "60beb135-0d7d-4b77-adb8-ab29d74ecad5",
   "metadata": {},
   "outputs": [],
   "source": [
    "from sklearn.feature_extraction.text import TfidfVectorizer\n"
   ]
  },
  {
   "cell_type": "code",
   "execution_count": 47,
   "id": "3d93c0f7-79aa-4b96-b9ab-d2e18346d8d6",
   "metadata": {},
   "outputs": [],
   "source": [
    "vect = TfidfVectorizer(max_features=5000)\n",
    "X = vect.fit_transform(data['tweet']).toarray()\n",
    "y = data['class']"
   ]
  },
  {
   "cell_type": "code",
   "execution_count": 48,
   "id": "037d1782-5665-4669-931c-c8e33ddb7235",
   "metadata": {},
   "outputs": [],
   "source": [
    "X_train, X_test, y_train, y_test = train_test_split(X, y, test_size=0.2, random_state=42)\n"
   ]
  },
  {
   "cell_type": "code",
   "execution_count": 49,
   "id": "4f16871c-2559-4dc1-9ebf-343d25df2058",
   "metadata": {},
   "outputs": [],
   "source": [
    "class LogisticRegression:\n",
    "    def __init__(self, learning_rate=0.01, iterations=1000):\n",
    "        self.learning_rate = learning_rate\n",
    "        self.iterations = iterations\n",
    "\n",
    "    def sigmoid(self, z):\n",
    "        return 1 / (1 + np.exp(-z))\n",
    "\n",
    "    def fit(self, X, y):\n",
    "        self.m, self.n = X.shape\n",
    "        self.W = np.zeros(self.n)\n",
    "        self.b = 0\n",
    "        self.X = X\n",
    "        self.y = y\n",
    "\n",
    "        # Gradient Descent\n",
    "        for _ in range(self.iterations):\n",
    "            self.update_weights()\n",
    "\n",
    "    def update_weights(self):\n",
    "        y_pred = self.sigmoid(np.dot(self.X, self.W) + self.b)\n",
    "        # Calculate gradients\n",
    "        dW = (1 / self.m) * np.dot(self.X.T, (y_pred - self.y))\n",
    "        db = (1 / self.m) * np.sum(y_pred - self.y)\n",
    "        # Update weights\n",
    "        self.W -= self.learning_rate * dW\n",
    "        self.b -= self.learning_rate * db\n",
    "\n",
    "    def predict(self, X):\n",
    "        y_pred = self.sigmoid(np.dot(X, self.W) + self.b)\n",
    "        y_pred_class = [1 if i > 0.5 else 0 for i in y_pred]\n",
    "        return np.array(y_pred_class)\n"
   ]
  },
  {
   "cell_type": "code",
   "execution_count": 50,
   "id": "e5b89d28-668b-4989-b4b4-47b9074602e0",
   "metadata": {},
   "outputs": [],
   "source": [
    "model = LogisticRegression(learning_rate=0.01, iterations=1000)"
   ]
  },
  {
   "cell_type": "code",
   "execution_count": 51,
   "id": "31498ceb-3666-4fc2-819e-5b24c057d6c4",
   "metadata": {},
   "outputs": [],
   "source": [
    "model.fit(X_train, y_train)"
   ]
  },
  {
   "cell_type": "code",
   "execution_count": 54,
   "id": "8f6534ea-0454-41a3-b70e-f1e0fae32905",
   "metadata": {},
   "outputs": [],
   "source": [
    "y_pred = model.predict(X_test)"
   ]
  },
  {
   "cell_type": "code",
   "execution_count": 55,
   "id": "22e5010a-3a9a-4b6b-8f08-cccb7aacf601",
   "metadata": {},
   "outputs": [],
   "source": [
    "accuracy = accuracy_score(y_test, y_pred)"
   ]
  },
  {
   "cell_type": "code",
   "execution_count": 58,
   "id": "b2130d5d-8ca0-4c3a-a820-34c685e64c56",
   "metadata": {},
   "outputs": [
    {
     "name": "stdout",
     "output_type": "stream",
     "text": [
      "61.51603498542274%\n"
     ]
    }
   ],
   "source": [
    "print(f'{accuracy*100}%')"
   ]
  },
  {
   "cell_type": "code",
   "execution_count": null,
   "id": "04ccbd3c-bf1b-4284-96dd-e2f113723738",
   "metadata": {},
   "outputs": [],
   "source": []
  }
 ],
 "metadata": {
  "kernelspec": {
   "display_name": "Python 3 (ipykernel)",
   "language": "python",
   "name": "python3"
  },
  "language_info": {
   "codemirror_mode": {
    "name": "ipython",
    "version": 3
   },
   "file_extension": ".py",
   "mimetype": "text/x-python",
   "name": "python",
   "nbconvert_exporter": "python",
   "pygments_lexer": "ipython3",
   "version": "3.9.1"
  }
 },
 "nbformat": 4,
 "nbformat_minor": 5
}
